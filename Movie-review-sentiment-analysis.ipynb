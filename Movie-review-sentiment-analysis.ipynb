{
 "cells": [
  {
   "cell_type": "code",
   "execution_count": 1,
   "id": "285e318a",
   "metadata": {
    "execution": {
     "iopub.execute_input": "2023-07-07T08:21:35.596238Z",
     "iopub.status.busy": "2023-07-07T08:21:35.595547Z",
     "iopub.status.idle": "2023-07-07T08:21:35.613467Z",
     "shell.execute_reply": "2023-07-07T08:21:35.612022Z"
    },
    "papermill": {
     "duration": 0.04529,
     "end_time": "2023-07-07T08:21:35.616373",
     "exception": false,
     "start_time": "2023-07-07T08:21:35.571083",
     "status": "completed"
    },
    "tags": []
   },
   "outputs": [
    {
     "name": "stdout",
     "output_type": "stream",
     "text": [
      "/kaggle/input/word2vec-nlp-tutorial/testData.tsv.zip\n",
      "/kaggle/input/word2vec-nlp-tutorial/sampleSubmission.csv\n",
      "/kaggle/input/word2vec-nlp-tutorial/unlabeledTrainData.tsv.zip\n",
      "/kaggle/input/word2vec-nlp-tutorial/labeledTrainData.tsv.zip\n"
     ]
    }
   ],
   "source": [
    "# This Python 3 environment comes with many helpful analytics libraries installed\n",
    "# It is defined by the kaggle/python Docker image: https://github.com/kaggle/docker-python\n",
    "# For example, here's several helpful packages to load\n",
    "\n",
    "import numpy as np # linear algebra\n",
    "import pandas as pd # data processing, CSV file I/O (e.g. pd.read_csv)\n",
    "\n",
    "# Input data files are available in the read-only \"../input/\" directory\n",
    "# For example, running this (by clicking run or pressing Shift+Enter) will list all files under the input directory\n",
    "\n",
    "import os\n",
    "for dirname, _, filenames in os.walk('/kaggle/input'):\n",
    "    for filename in filenames:\n",
    "        print(os.path.join(dirname, filename))\n",
    "\n",
    "# You can write up to 20GB to the current directory (/kaggle/working/) that gets preserved as output when you create a version using \"Save & Run All\" \n",
    "# You can also write temporary files to /kaggle/temp/, but they won't be saved outside of the current session"
   ]
  },
  {
   "cell_type": "code",
   "execution_count": 2,
   "id": "6277cc92",
   "metadata": {
    "execution": {
     "iopub.execute_input": "2023-07-07T08:21:35.662185Z",
     "iopub.status.busy": "2023-07-07T08:21:35.660870Z",
     "iopub.status.idle": "2023-07-07T08:21:52.365353Z",
     "shell.execute_reply": "2023-07-07T08:21:52.363856Z"
    },
    "papermill": {
     "duration": 16.730787,
     "end_time": "2023-07-07T08:21:52.368652",
     "exception": false,
     "start_time": "2023-07-07T08:21:35.637865",
     "status": "completed"
    },
    "tags": []
   },
   "outputs": [],
   "source": [
    "import torch\n",
    "import numpy as np\n",
    "import pandas as pd\n",
    "from bs4 import BeautifulSoup\n",
    "import string\n",
    "from sklearn import model_selection, metrics\n",
    "from transformers import AutoModelForSequenceClassification, AutoTokenizer, TrainingArguments, Trainer"
   ]
  },
  {
   "cell_type": "code",
   "execution_count": 3,
   "id": "78177362",
   "metadata": {
    "execution": {
     "iopub.execute_input": "2023-07-07T08:21:52.415465Z",
     "iopub.status.busy": "2023-07-07T08:21:52.414476Z",
     "iopub.status.idle": "2023-07-07T08:21:54.067552Z",
     "shell.execute_reply": "2023-07-07T08:21:54.066057Z"
    },
    "papermill": {
     "duration": 1.680507,
     "end_time": "2023-07-07T08:21:54.070879",
     "exception": false,
     "start_time": "2023-07-07T08:21:52.390372",
     "status": "completed"
    },
    "tags": []
   },
   "outputs": [],
   "source": [
    "train = pd.read_csv('/kaggle/input/word2vec-nlp-tutorial/labeledTrainData.tsv.zip', sep = '\\t')\n",
    "test = pd.read_csv('/kaggle/input/word2vec-nlp-tutorial/testData.tsv.zip', sep = '\\t')"
   ]
  },
  {
   "cell_type": "code",
   "execution_count": 4,
   "id": "c940560b",
   "metadata": {
    "execution": {
     "iopub.execute_input": "2023-07-07T08:21:54.116356Z",
     "iopub.status.busy": "2023-07-07T08:21:54.115624Z",
     "iopub.status.idle": "2023-07-07T08:21:54.147377Z",
     "shell.execute_reply": "2023-07-07T08:21:54.145732Z"
    },
    "papermill": {
     "duration": 0.057866,
     "end_time": "2023-07-07T08:21:54.150619",
     "exception": false,
     "start_time": "2023-07-07T08:21:54.092753",
     "status": "completed"
    },
    "tags": []
   },
   "outputs": [
    {
     "data": {
      "text/html": [
       "<div>\n",
       "<style scoped>\n",
       "    .dataframe tbody tr th:only-of-type {\n",
       "        vertical-align: middle;\n",
       "    }\n",
       "\n",
       "    .dataframe tbody tr th {\n",
       "        vertical-align: top;\n",
       "    }\n",
       "\n",
       "    .dataframe thead th {\n",
       "        text-align: right;\n",
       "    }\n",
       "</style>\n",
       "<table border=\"1\" class=\"dataframe\">\n",
       "  <thead>\n",
       "    <tr style=\"text-align: right;\">\n",
       "      <th></th>\n",
       "      <th>id</th>\n",
       "      <th>sentiment</th>\n",
       "      <th>review</th>\n",
       "    </tr>\n",
       "  </thead>\n",
       "  <tbody>\n",
       "    <tr>\n",
       "      <th>0</th>\n",
       "      <td>5814_8</td>\n",
       "      <td>1</td>\n",
       "      <td>With all this stuff going down at the moment w...</td>\n",
       "    </tr>\n",
       "    <tr>\n",
       "      <th>1</th>\n",
       "      <td>2381_9</td>\n",
       "      <td>1</td>\n",
       "      <td>\\The Classic War of the Worlds\\\" by Timothy Hi...</td>\n",
       "    </tr>\n",
       "    <tr>\n",
       "      <th>2</th>\n",
       "      <td>7759_3</td>\n",
       "      <td>0</td>\n",
       "      <td>The film starts with a manager (Nicholas Bell)...</td>\n",
       "    </tr>\n",
       "    <tr>\n",
       "      <th>3</th>\n",
       "      <td>3630_4</td>\n",
       "      <td>0</td>\n",
       "      <td>It must be assumed that those who praised this...</td>\n",
       "    </tr>\n",
       "    <tr>\n",
       "      <th>4</th>\n",
       "      <td>9495_8</td>\n",
       "      <td>1</td>\n",
       "      <td>Superbly trashy and wondrously unpretentious 8...</td>\n",
       "    </tr>\n",
       "  </tbody>\n",
       "</table>\n",
       "</div>"
      ],
      "text/plain": [
       "       id  sentiment                                             review\n",
       "0  5814_8          1  With all this stuff going down at the moment w...\n",
       "1  2381_9          1  \\The Classic War of the Worlds\\\" by Timothy Hi...\n",
       "2  7759_3          0  The film starts with a manager (Nicholas Bell)...\n",
       "3  3630_4          0  It must be assumed that those who praised this...\n",
       "4  9495_8          1  Superbly trashy and wondrously unpretentious 8..."
      ]
     },
     "execution_count": 4,
     "metadata": {},
     "output_type": "execute_result"
    }
   ],
   "source": [
    "train.head()"
   ]
  },
  {
   "cell_type": "code",
   "execution_count": 5,
   "id": "7e4480ec",
   "metadata": {
    "execution": {
     "iopub.execute_input": "2023-07-07T08:21:54.196837Z",
     "iopub.status.busy": "2023-07-07T08:21:54.196374Z",
     "iopub.status.idle": "2023-07-07T08:21:54.211545Z",
     "shell.execute_reply": "2023-07-07T08:21:54.210249Z"
    },
    "papermill": {
     "duration": 0.041371,
     "end_time": "2023-07-07T08:21:54.214399",
     "exception": false,
     "start_time": "2023-07-07T08:21:54.173028",
     "status": "completed"
    },
    "tags": []
   },
   "outputs": [
    {
     "data": {
      "text/plain": [
       "1    12500\n",
       "0    12500\n",
       "Name: sentiment, dtype: int64"
      ]
     },
     "execution_count": 5,
     "metadata": {},
     "output_type": "execute_result"
    }
   ],
   "source": [
    "train['sentiment'].value_counts()\n"
   ]
  },
  {
   "cell_type": "code",
   "execution_count": 6,
   "id": "0221de2d",
   "metadata": {
    "execution": {
     "iopub.execute_input": "2023-07-07T08:21:54.260403Z",
     "iopub.status.busy": "2023-07-07T08:21:54.259271Z",
     "iopub.status.idle": "2023-07-07T08:21:54.267417Z",
     "shell.execute_reply": "2023-07-07T08:21:54.265820Z"
    },
    "papermill": {
     "duration": 0.034454,
     "end_time": "2023-07-07T08:21:54.270554",
     "exception": false,
     "start_time": "2023-07-07T08:21:54.236100",
     "status": "completed"
    },
    "tags": []
   },
   "outputs": [
    {
     "data": {
      "text/plain": [
       "((25000, 3), (25000, 2))"
      ]
     },
     "execution_count": 6,
     "metadata": {},
     "output_type": "execute_result"
    }
   ],
   "source": [
    "train.shape, test.shape"
   ]
  },
  {
   "cell_type": "code",
   "execution_count": 7,
   "id": "86ab00a9",
   "metadata": {
    "execution": {
     "iopub.execute_input": "2023-07-07T08:21:54.316852Z",
     "iopub.status.busy": "2023-07-07T08:21:54.315629Z",
     "iopub.status.idle": "2023-07-07T08:21:54.328466Z",
     "shell.execute_reply": "2023-07-07T08:21:54.326983Z"
    },
    "papermill": {
     "duration": 0.039531,
     "end_time": "2023-07-07T08:21:54.331850",
     "exception": false,
     "start_time": "2023-07-07T08:21:54.292319",
     "status": "completed"
    },
    "tags": []
   },
   "outputs": [],
   "source": [
    "train0=train[train['sentiment']==0]\n",
    "train1=train[train['sentiment']==1]"
   ]
  },
  {
   "cell_type": "code",
   "execution_count": 8,
   "id": "32b43594",
   "metadata": {
    "execution": {
     "iopub.execute_input": "2023-07-07T08:21:54.379132Z",
     "iopub.status.busy": "2023-07-07T08:21:54.377668Z",
     "iopub.status.idle": "2023-07-07T08:21:54.387453Z",
     "shell.execute_reply": "2023-07-07T08:21:54.385907Z"
    },
    "papermill": {
     "duration": 0.036441,
     "end_time": "2023-07-07T08:21:54.390525",
     "exception": false,
     "start_time": "2023-07-07T08:21:54.354084",
     "status": "completed"
    },
    "tags": []
   },
   "outputs": [
    {
     "data": {
      "text/plain": [
       "((12500, 3), (12500, 3))"
      ]
     },
     "execution_count": 8,
     "metadata": {},
     "output_type": "execute_result"
    }
   ],
   "source": [
    "train0.shape, train1.shape"
   ]
  },
  {
   "cell_type": "markdown",
   "id": "32a9e367",
   "metadata": {
    "papermill": {
     "duration": 0.021613,
     "end_time": "2023-07-07T08:21:54.434132",
     "exception": false,
     "start_time": "2023-07-07T08:21:54.412519",
     "status": "completed"
    },
    "tags": []
   },
   "source": [
    "# Pre-processing Data"
   ]
  },
  {
   "cell_type": "code",
   "execution_count": 9,
   "id": "2faf714f",
   "metadata": {
    "execution": {
     "iopub.execute_input": "2023-07-07T08:21:54.481276Z",
     "iopub.status.busy": "2023-07-07T08:21:54.480157Z",
     "iopub.status.idle": "2023-07-07T08:21:54.816947Z",
     "shell.execute_reply": "2023-07-07T08:21:54.815435Z"
    },
    "papermill": {
     "duration": 0.36376,
     "end_time": "2023-07-07T08:21:54.820161",
     "exception": false,
     "start_time": "2023-07-07T08:21:54.456401",
     "status": "completed"
    },
    "tags": []
   },
   "outputs": [],
   "source": [
    "#Remove Hashtags\n",
    "train['review'].replace( { r\"#(\\w+)\" : '' }, inplace= True, regex = True)\n",
    "\n",
    "#Remove Mention\n",
    "train['review'].replace( { r\"@(\\w+)\" : '' }, inplace= True, regex = True)\n",
    "\n",
    "#Remove URL\n",
    "train['review'].astype(str).replace( { r\"http\\S+\" : '' }, inplace= True, regex = True)\n",
    "\n",
    "train['review']=train['review'].str.lower()"
   ]
  },
  {
   "cell_type": "code",
   "execution_count": 10,
   "id": "f2972694",
   "metadata": {
    "execution": {
     "iopub.execute_input": "2023-07-07T08:21:54.866035Z",
     "iopub.status.busy": "2023-07-07T08:21:54.865539Z",
     "iopub.status.idle": "2023-07-07T08:21:55.211547Z",
     "shell.execute_reply": "2023-07-07T08:21:55.209713Z"
    },
    "papermill": {
     "duration": 0.373091,
     "end_time": "2023-07-07T08:21:55.215286",
     "exception": false,
     "start_time": "2023-07-07T08:21:54.842195",
     "status": "completed"
    },
    "tags": []
   },
   "outputs": [],
   "source": [
    "#Remove Hashtags\n",
    "test['review'].replace( { r\"#(\\w+)\" : '' }, inplace= True, regex = True)\n",
    "\n",
    "#Remove Mention\n",
    "test['review'].replace( { r\"@(\\w+)\" : '' }, inplace= True, regex = True)\n",
    "\n",
    "#Remove URL\n",
    "test['review'].astype(str).replace( { r\"http\\S+\" : '' }, inplace= True, regex = True)\n",
    "\n",
    "test['review']=test['review'].str.lower()"
   ]
  },
  {
   "cell_type": "code",
   "execution_count": 11,
   "id": "90a48960",
   "metadata": {
    "execution": {
     "iopub.execute_input": "2023-07-07T08:21:55.262414Z",
     "iopub.status.busy": "2023-07-07T08:21:55.261945Z",
     "iopub.status.idle": "2023-07-07T08:21:55.879765Z",
     "shell.execute_reply": "2023-07-07T08:21:55.878550Z"
    },
    "papermill": {
     "duration": 0.645642,
     "end_time": "2023-07-07T08:21:55.882997",
     "exception": false,
     "start_time": "2023-07-07T08:21:55.237355",
     "status": "completed"
    },
    "tags": []
   },
   "outputs": [],
   "source": [
    "# Import stopwords with nltk.\n",
    "from nltk.corpus import stopwords\n",
    "stop = stopwords.words('english')"
   ]
  },
  {
   "cell_type": "code",
   "execution_count": 12,
   "id": "a0d29f37",
   "metadata": {
    "execution": {
     "iopub.execute_input": "2023-07-07T08:21:55.930690Z",
     "iopub.status.busy": "2023-07-07T08:21:55.930189Z",
     "iopub.status.idle": "2023-07-07T08:22:25.408685Z",
     "shell.execute_reply": "2023-07-07T08:22:25.407301Z"
    },
    "papermill": {
     "duration": 29.50686,
     "end_time": "2023-07-07T08:22:25.412106",
     "exception": false,
     "start_time": "2023-07-07T08:21:55.905246",
     "status": "completed"
    },
    "tags": []
   },
   "outputs": [],
   "source": [
    "train['review'] = train['review'].apply(lambda x: ' '.join([word for word in x.split() if word not in (stop)]))\n",
    "\n",
    "test['review'] = test['review'].apply(lambda x: ' '.join([word for word in x.split() if word not in (stop)]))"
   ]
  },
  {
   "cell_type": "code",
   "execution_count": 13,
   "id": "d6ca8f9a",
   "metadata": {
    "execution": {
     "iopub.execute_input": "2023-07-07T08:22:25.458632Z",
     "iopub.status.busy": "2023-07-07T08:22:25.457635Z",
     "iopub.status.idle": "2023-07-07T08:22:25.471103Z",
     "shell.execute_reply": "2023-07-07T08:22:25.469667Z"
    },
    "papermill": {
     "duration": 0.039898,
     "end_time": "2023-07-07T08:22:25.473957",
     "exception": false,
     "start_time": "2023-07-07T08:22:25.434059",
     "status": "completed"
    },
    "tags": []
   },
   "outputs": [
    {
     "data": {
      "text/html": [
       "<div>\n",
       "<style scoped>\n",
       "    .dataframe tbody tr th:only-of-type {\n",
       "        vertical-align: middle;\n",
       "    }\n",
       "\n",
       "    .dataframe tbody tr th {\n",
       "        vertical-align: top;\n",
       "    }\n",
       "\n",
       "    .dataframe thead th {\n",
       "        text-align: right;\n",
       "    }\n",
       "</style>\n",
       "<table border=\"1\" class=\"dataframe\">\n",
       "  <thead>\n",
       "    <tr style=\"text-align: right;\">\n",
       "      <th></th>\n",
       "      <th>id</th>\n",
       "      <th>sentiment</th>\n",
       "      <th>review</th>\n",
       "    </tr>\n",
       "  </thead>\n",
       "  <tbody>\n",
       "    <tr>\n",
       "      <th>0</th>\n",
       "      <td>5814_8</td>\n",
       "      <td>1</td>\n",
       "      <td>stuff going moment mj i've started listening m...</td>\n",
       "    </tr>\n",
       "    <tr>\n",
       "      <th>1</th>\n",
       "      <td>2381_9</td>\n",
       "      <td>1</td>\n",
       "      <td>\\the classic war worlds\\\" timothy hines entert...</td>\n",
       "    </tr>\n",
       "    <tr>\n",
       "      <th>2</th>\n",
       "      <td>7759_3</td>\n",
       "      <td>0</td>\n",
       "      <td>film starts manager (nicholas bell) giving wel...</td>\n",
       "    </tr>\n",
       "    <tr>\n",
       "      <th>3</th>\n",
       "      <td>3630_4</td>\n",
       "      <td>0</td>\n",
       "      <td>must assumed praised film (\\the greatest filme...</td>\n",
       "    </tr>\n",
       "    <tr>\n",
       "      <th>4</th>\n",
       "      <td>9495_8</td>\n",
       "      <td>1</td>\n",
       "      <td>superbly trashy wondrously unpretentious 80's ...</td>\n",
       "    </tr>\n",
       "  </tbody>\n",
       "</table>\n",
       "</div>"
      ],
      "text/plain": [
       "       id  sentiment                                             review\n",
       "0  5814_8          1  stuff going moment mj i've started listening m...\n",
       "1  2381_9          1  \\the classic war worlds\\\" timothy hines entert...\n",
       "2  7759_3          0  film starts manager (nicholas bell) giving wel...\n",
       "3  3630_4          0  must assumed praised film (\\the greatest filme...\n",
       "4  9495_8          1  superbly trashy wondrously unpretentious 80's ..."
      ]
     },
     "execution_count": 13,
     "metadata": {},
     "output_type": "execute_result"
    }
   ],
   "source": [
    "train.head()"
   ]
  },
  {
   "cell_type": "code",
   "execution_count": 14,
   "id": "15ed51ab",
   "metadata": {
    "execution": {
     "iopub.execute_input": "2023-07-07T08:22:25.521072Z",
     "iopub.status.busy": "2023-07-07T08:22:25.520599Z",
     "iopub.status.idle": "2023-07-07T08:22:25.533301Z",
     "shell.execute_reply": "2023-07-07T08:22:25.531935Z"
    },
    "papermill": {
     "duration": 0.039268,
     "end_time": "2023-07-07T08:22:25.535909",
     "exception": false,
     "start_time": "2023-07-07T08:22:25.496641",
     "status": "completed"
    },
    "tags": []
   },
   "outputs": [
    {
     "data": {
      "text/html": [
       "<div>\n",
       "<style scoped>\n",
       "    .dataframe tbody tr th:only-of-type {\n",
       "        vertical-align: middle;\n",
       "    }\n",
       "\n",
       "    .dataframe tbody tr th {\n",
       "        vertical-align: top;\n",
       "    }\n",
       "\n",
       "    .dataframe thead th {\n",
       "        text-align: right;\n",
       "    }\n",
       "</style>\n",
       "<table border=\"1\" class=\"dataframe\">\n",
       "  <thead>\n",
       "    <tr style=\"text-align: right;\">\n",
       "      <th></th>\n",
       "      <th>id</th>\n",
       "      <th>review</th>\n",
       "    </tr>\n",
       "  </thead>\n",
       "  <tbody>\n",
       "    <tr>\n",
       "      <th>0</th>\n",
       "      <td>12311_10</td>\n",
       "      <td>naturally film who's main themes mortality, no...</td>\n",
       "    </tr>\n",
       "    <tr>\n",
       "      <th>1</th>\n",
       "      <td>8348_2</td>\n",
       "      <td>movie disaster within disaster film. full grea...</td>\n",
       "    </tr>\n",
       "    <tr>\n",
       "      <th>2</th>\n",
       "      <td>5828_4</td>\n",
       "      <td>all, movie kids. saw tonight child loved it. o...</td>\n",
       "    </tr>\n",
       "    <tr>\n",
       "      <th>3</th>\n",
       "      <td>7186_2</td>\n",
       "      <td>afraid dark left impression several different ...</td>\n",
       "    </tr>\n",
       "    <tr>\n",
       "      <th>4</th>\n",
       "      <td>12128_7</td>\n",
       "      <td>accurate depiction small time mob life filmed ...</td>\n",
       "    </tr>\n",
       "  </tbody>\n",
       "</table>\n",
       "</div>"
      ],
      "text/plain": [
       "         id                                             review\n",
       "0  12311_10  naturally film who's main themes mortality, no...\n",
       "1    8348_2  movie disaster within disaster film. full grea...\n",
       "2    5828_4  all, movie kids. saw tonight child loved it. o...\n",
       "3    7186_2  afraid dark left impression several different ...\n",
       "4   12128_7  accurate depiction small time mob life filmed ..."
      ]
     },
     "execution_count": 14,
     "metadata": {},
     "output_type": "execute_result"
    }
   ],
   "source": [
    "test.head()"
   ]
  },
  {
   "cell_type": "code",
   "execution_count": 15,
   "id": "c8cf7c62",
   "metadata": {
    "execution": {
     "iopub.execute_input": "2023-07-07T08:22:25.582881Z",
     "iopub.status.busy": "2023-07-07T08:22:25.582426Z",
     "iopub.status.idle": "2023-07-07T08:22:25.588376Z",
     "shell.execute_reply": "2023-07-07T08:22:25.587039Z"
    },
    "papermill": {
     "duration": 0.032716,
     "end_time": "2023-07-07T08:22:25.590893",
     "exception": false,
     "start_time": "2023-07-07T08:22:25.558177",
     "status": "completed"
    },
    "tags": []
   },
   "outputs": [],
   "source": [
    "y = train['sentiment']\n",
    "x = train['review']"
   ]
  },
  {
   "cell_type": "markdown",
   "id": "d4cdcaed",
   "metadata": {
    "papermill": {
     "duration": 0.021898,
     "end_time": "2023-07-07T08:22:25.635405",
     "exception": false,
     "start_time": "2023-07-07T08:22:25.613507",
     "status": "completed"
    },
    "tags": []
   },
   "source": [
    "# Vectorization"
   ]
  },
  {
   "cell_type": "markdown",
   "id": "c3696fb6",
   "metadata": {
    "papermill": {
     "duration": 0.021809,
     "end_time": "2023-07-07T08:22:25.679804",
     "exception": false,
     "start_time": "2023-07-07T08:22:25.657995",
     "status": "completed"
    },
    "tags": []
   },
   "source": [
    "## TF-IDF"
   ]
  },
  {
   "cell_type": "code",
   "execution_count": 16,
   "id": "83420f4d",
   "metadata": {
    "execution": {
     "iopub.execute_input": "2023-07-07T08:22:25.726319Z",
     "iopub.status.busy": "2023-07-07T08:22:25.725916Z",
     "iopub.status.idle": "2023-07-07T08:22:25.732589Z",
     "shell.execute_reply": "2023-07-07T08:22:25.731058Z"
    },
    "papermill": {
     "duration": 0.033447,
     "end_time": "2023-07-07T08:22:25.735435",
     "exception": false,
     "start_time": "2023-07-07T08:22:25.701988",
     "status": "completed"
    },
    "tags": []
   },
   "outputs": [],
   "source": [
    "import pandas as pd\n",
    "import csv\n",
    "import re \n",
    "import string\n",
    "from sklearn.model_selection import train_test_split\n",
    "from sklearn.feature_extraction.text import CountVectorizer\n",
    "from sklearn.feature_extraction.text import TfidfVectorizer"
   ]
  },
  {
   "cell_type": "code",
   "execution_count": 17,
   "id": "71d9366a",
   "metadata": {
    "execution": {
     "iopub.execute_input": "2023-07-07T08:22:25.782359Z",
     "iopub.status.busy": "2023-07-07T08:22:25.781785Z",
     "iopub.status.idle": "2023-07-07T08:22:26.067239Z",
     "shell.execute_reply": "2023-07-07T08:22:26.065832Z"
    },
    "papermill": {
     "duration": 0.312754,
     "end_time": "2023-07-07T08:22:26.070537",
     "exception": false,
     "start_time": "2023-07-07T08:22:25.757783",
     "status": "completed"
    },
    "tags": []
   },
   "outputs": [],
   "source": [
    "# Creating a word corpus for vectorization\n",
    "corpus = []\n",
    "for i in range(x.shape[0]):\n",
    "    corpus.append(x.iloc[i])"
   ]
  },
  {
   "cell_type": "code",
   "execution_count": 18,
   "id": "df5e8ff3",
   "metadata": {
    "execution": {
     "iopub.execute_input": "2023-07-07T08:22:26.118073Z",
     "iopub.status.busy": "2023-07-07T08:22:26.117634Z",
     "iopub.status.idle": "2023-07-07T08:22:44.521369Z",
     "shell.execute_reply": "2023-07-07T08:22:44.519998Z"
    },
    "papermill": {
     "duration": 18.431408,
     "end_time": "2023-07-07T08:22:44.524556",
     "exception": false,
     "start_time": "2023-07-07T08:22:26.093148",
     "status": "completed"
    },
    "tags": []
   },
   "outputs": [
    {
     "name": "stderr",
     "output_type": "stream",
     "text": [
      "/opt/conda/lib/python3.7/site-packages/sklearn/utils/deprecation.py:87: FutureWarning: Function get_feature_names is deprecated; get_feature_names is deprecated in 1.0 and will be removed in 1.2. Please use get_feature_names_out instead.\n",
      "  warnings.warn(msg, category=FutureWarning)\n"
     ]
    }
   ],
   "source": [
    "vectorizer1 = TfidfVectorizer(max_features=1000)\n",
    "X1 = vectorizer1.fit_transform(x)\n",
    "feature_names1 = vectorizer1.get_feature_names()\n",
    "denselist1 = X1.todense().tolist()\n",
    "train = pd.DataFrame(denselist1, columns=feature_names1)"
   ]
  },
  {
   "cell_type": "code",
   "execution_count": 19,
   "id": "806892e2",
   "metadata": {
    "execution": {
     "iopub.execute_input": "2023-07-07T08:22:44.571420Z",
     "iopub.status.busy": "2023-07-07T08:22:44.570869Z",
     "iopub.status.idle": "2023-07-07T08:22:44.714011Z",
     "shell.execute_reply": "2023-07-07T08:22:44.712885Z"
    },
    "papermill": {
     "duration": 0.169861,
     "end_time": "2023-07-07T08:22:44.716968",
     "exception": false,
     "start_time": "2023-07-07T08:22:44.547107",
     "status": "completed"
    },
    "tags": []
   },
   "outputs": [],
   "source": [
    "# splitting the training and testing part from the data\n",
    "X_temp, X_test, y_temp, y_test = train_test_split(train, y, test_size=0.2, random_state=0)"
   ]
  },
  {
   "cell_type": "markdown",
   "id": "b59ff946",
   "metadata": {
    "papermill": {
     "duration": 0.022095,
     "end_time": "2023-07-07T08:22:44.761845",
     "exception": false,
     "start_time": "2023-07-07T08:22:44.739750",
     "status": "completed"
    },
    "tags": []
   },
   "source": [
    "## Testing with Models"
   ]
  },
  {
   "cell_type": "code",
   "execution_count": 20,
   "id": "1da499ab",
   "metadata": {
    "execution": {
     "iopub.execute_input": "2023-07-07T08:22:44.809180Z",
     "iopub.status.busy": "2023-07-07T08:22:44.808744Z",
     "iopub.status.idle": "2023-07-07T08:22:45.385254Z",
     "shell.execute_reply": "2023-07-07T08:22:45.383983Z"
    },
    "papermill": {
     "duration": 0.603831,
     "end_time": "2023-07-07T08:22:45.388466",
     "exception": false,
     "start_time": "2023-07-07T08:22:44.784635",
     "status": "completed"
    },
    "tags": []
   },
   "outputs": [],
   "source": [
    "from sklearn.linear_model import LogisticRegression\n",
    "from sklearn.naive_bayes import GaussianNB\n",
    "from sklearn.ensemble import RandomForestClassifier\n",
    "from sklearn.tree import DecisionTreeClassifier\n",
    "from sklearn.neighbors import KNeighborsClassifier\n",
    "from sklearn.ensemble import GradientBoostingClassifier\n",
    "\n",
    "from sklearn import metrics\n",
    "import matplotlib.pyplot as plt\n",
    "%matplotlib inline\n",
    "from sklearn.metrics import plot_confusion_matrix\n",
    "from sklearn.metrics import precision_score, recall_score, f1_score\n",
    "import seaborn as sns"
   ]
  },
  {
   "cell_type": "code",
   "execution_count": 21,
   "id": "6d011329",
   "metadata": {
    "execution": {
     "iopub.execute_input": "2023-07-07T08:22:45.435610Z",
     "iopub.status.busy": "2023-07-07T08:22:45.435095Z",
     "iopub.status.idle": "2023-07-07T08:22:45.441276Z",
     "shell.execute_reply": "2023-07-07T08:22:45.440166Z"
    },
    "papermill": {
     "duration": 0.032929,
     "end_time": "2023-07-07T08:22:45.443961",
     "exception": false,
     "start_time": "2023-07-07T08:22:45.411032",
     "status": "completed"
    },
    "tags": []
   },
   "outputs": [],
   "source": [
    "accuracy = {'TF-IDF':[], 'BoW': []}"
   ]
  },
  {
   "cell_type": "markdown",
   "id": "fd8175d1",
   "metadata": {
    "papermill": {
     "duration": 0.022097,
     "end_time": "2023-07-07T08:22:45.488598",
     "exception": false,
     "start_time": "2023-07-07T08:22:45.466501",
     "status": "completed"
    },
    "tags": []
   },
   "source": [
    "### Logistic Regression"
   ]
  },
  {
   "cell_type": "code",
   "execution_count": 22,
   "id": "2edb450a",
   "metadata": {
    "execution": {
     "iopub.execute_input": "2023-07-07T08:22:45.535991Z",
     "iopub.status.busy": "2023-07-07T08:22:45.535510Z",
     "iopub.status.idle": "2023-07-07T08:22:49.085091Z",
     "shell.execute_reply": "2023-07-07T08:22:49.083228Z"
    },
    "papermill": {
     "duration": 3.579046,
     "end_time": "2023-07-07T08:22:49.090465",
     "exception": false,
     "start_time": "2023-07-07T08:22:45.511419",
     "status": "completed"
    },
    "tags": []
   },
   "outputs": [
    {
     "name": "stdout",
     "output_type": "stream",
     "text": [
      "[[2163  385]\n",
      " [ 309 2143]]\n",
      "              precision    recall  f1-score   support\n",
      "\n",
      "           0       0.88      0.85      0.86      2548\n",
      "           1       0.85      0.87      0.86      2452\n",
      "\n",
      "    accuracy                           0.86      5000\n",
      "   macro avg       0.86      0.86      0.86      5000\n",
      "weighted avg       0.86      0.86      0.86      5000\n",
      "\n",
      "0.8612\n"
     ]
    }
   ],
   "source": [
    "#TF-IDF\n",
    "regressor_LR_tf = LogisticRegression(C=1.0,penalty='l2',solver='newton-cg')\n",
    "regressor_LR_tf.fit(X_temp, y_temp)\n",
    "y_predict_LR_tf = regressor_LR_tf.predict(X_test)\n",
    "a=(regressor_LR_tf.score(X_test, y_test))\n",
    "accuracy['TF-IDF'].append(a)\n",
    "\n",
    "print(metrics.confusion_matrix(y_test, y_predict_LR_tf))\n",
    "print(metrics.classification_report(y_test, y_predict_LR_tf))\n",
    "print(metrics.accuracy_score(y_test, y_predict_LR_tf))"
   ]
  },
  {
   "cell_type": "markdown",
   "id": "2a896577",
   "metadata": {
    "papermill": {
     "duration": 0.041,
     "end_time": "2023-07-07T08:22:49.179967",
     "exception": false,
     "start_time": "2023-07-07T08:22:49.138967",
     "status": "completed"
    },
    "tags": []
   },
   "source": [
    "### Decision Tree Classifier"
   ]
  },
  {
   "cell_type": "code",
   "execution_count": 23,
   "id": "ed18d7be",
   "metadata": {
    "execution": {
     "iopub.execute_input": "2023-07-07T08:22:49.228542Z",
     "iopub.status.busy": "2023-07-07T08:22:49.228091Z",
     "iopub.status.idle": "2023-07-07T08:22:49.851009Z",
     "shell.execute_reply": "2023-07-07T08:22:49.849427Z"
    },
    "papermill": {
     "duration": 0.651245,
     "end_time": "2023-07-07T08:22:49.854033",
     "exception": false,
     "start_time": "2023-07-07T08:22:49.202788",
     "status": "completed"
    },
    "tags": []
   },
   "outputs": [
    {
     "name": "stdout",
     "output_type": "stream",
     "text": [
      "[[1094 1454]\n",
      " [ 277 2175]]\n",
      "              precision    recall  f1-score   support\n",
      "\n",
      "           0       0.80      0.43      0.56      2548\n",
      "           1       0.60      0.89      0.72      2452\n",
      "\n",
      "    accuracy                           0.65      5000\n",
      "   macro avg       0.70      0.66      0.64      5000\n",
      "weighted avg       0.70      0.65      0.64      5000\n",
      "\n",
      "0.6538\n"
     ]
    }
   ],
   "source": [
    "#TF-IDF\n",
    "model_DT_tf = DecisionTreeClassifier(criterion = 'gini', max_depth=2) \n",
    "model_DT_tf.fit(X_temp, y_temp)\n",
    "y_predict_DT_tf = model_DT_tf.predict(X_test)\n",
    "a=(model_DT_tf.score(X_test,y_test))\n",
    "accuracy['TF-IDF'].append(a)\n",
    "\n",
    "print(metrics.confusion_matrix(y_test, y_predict_DT_tf))\n",
    "print(metrics.classification_report(y_test, y_predict_DT_tf))\n",
    "print(metrics.accuracy_score(y_test, y_predict_DT_tf))"
   ]
  },
  {
   "cell_type": "markdown",
   "id": "1ea531ca",
   "metadata": {
    "papermill": {
     "duration": 0.022187,
     "end_time": "2023-07-07T08:22:49.898907",
     "exception": false,
     "start_time": "2023-07-07T08:22:49.876720",
     "status": "completed"
    },
    "tags": []
   },
   "source": [
    "### Gradient Boosting"
   ]
  },
  {
   "cell_type": "code",
   "execution_count": 24,
   "id": "47a70233",
   "metadata": {
    "execution": {
     "iopub.execute_input": "2023-07-07T08:22:49.946494Z",
     "iopub.status.busy": "2023-07-07T08:22:49.946037Z",
     "iopub.status.idle": "2023-07-07T08:23:52.960632Z",
     "shell.execute_reply": "2023-07-07T08:23:52.959612Z"
    },
    "papermill": {
     "duration": 63.064573,
     "end_time": "2023-07-07T08:23:52.986121",
     "exception": false,
     "start_time": "2023-07-07T08:22:49.921548",
     "status": "completed"
    },
    "tags": []
   },
   "outputs": [
    {
     "name": "stdout",
     "output_type": "stream",
     "text": [
      "[[1928  620]\n",
      " [ 330 2122]]\n",
      "              precision    recall  f1-score   support\n",
      "\n",
      "           0       0.85      0.76      0.80      2548\n",
      "           1       0.77      0.87      0.82      2452\n",
      "\n",
      "    accuracy                           0.81      5000\n",
      "   macro avg       0.81      0.81      0.81      5000\n",
      "weighted avg       0.81      0.81      0.81      5000\n",
      "\n",
      "0.81\n"
     ]
    }
   ],
   "source": [
    "#TF-IDF\n",
    "model_GB_tf = GradientBoostingClassifier(learning_rate= 0.1, max_depth=3, n_estimators= 100,subsample=1.0) \n",
    "model_GB_tf.fit(X_temp, y_temp)\n",
    "y_predict_GB_tf = model_GB_tf.predict(X_test)\n",
    "a=(model_GB_tf.score(X_test,y_test))\n",
    "accuracy['TF-IDF'].append(a)\n",
    "print(metrics.confusion_matrix(y_test, y_predict_GB_tf))\n",
    "print(metrics.classification_report(y_test, y_predict_GB_tf))\n",
    "print(metrics.accuracy_score(y_test, y_predict_GB_tf))"
   ]
  },
  {
   "cell_type": "markdown",
   "id": "2788a222",
   "metadata": {
    "papermill": {
     "duration": 0.022945,
     "end_time": "2023-07-07T08:23:53.031566",
     "exception": false,
     "start_time": "2023-07-07T08:23:53.008621",
     "status": "completed"
    },
    "tags": []
   },
   "source": [
    "### Random Forest"
   ]
  },
  {
   "cell_type": "code",
   "execution_count": 25,
   "id": "07bb98fe",
   "metadata": {
    "execution": {
     "iopub.execute_input": "2023-07-07T08:23:53.080315Z",
     "iopub.status.busy": "2023-07-07T08:23:53.079561Z",
     "iopub.status.idle": "2023-07-07T08:24:02.947444Z",
     "shell.execute_reply": "2023-07-07T08:24:02.946107Z"
    },
    "papermill": {
     "duration": 9.895528,
     "end_time": "2023-07-07T08:24:02.950347",
     "exception": false,
     "start_time": "2023-07-07T08:23:53.054819",
     "status": "completed"
    },
    "tags": []
   },
   "outputs": [
    {
     "name": "stdout",
     "output_type": "stream",
     "text": [
      "[[2151  397]\n",
      " [ 375 2077]]\n",
      "              precision    recall  f1-score   support\n",
      "\n",
      "           0       0.85      0.84      0.85      2548\n",
      "           1       0.84      0.85      0.84      2452\n",
      "\n",
      "    accuracy                           0.85      5000\n",
      "   macro avg       0.85      0.85      0.85      5000\n",
      "weighted avg       0.85      0.85      0.85      5000\n",
      "\n",
      "0.8456\n"
     ]
    }
   ],
   "source": [
    "#TF-IDF\n",
    "model_RF_tf = RandomForestClassifier(n_estimators= 100, max_features = 'log2')\n",
    "model_RF_tf.fit(X_temp, y_temp)\n",
    "y_predict_RF_tf = model_RF_tf.predict(X_test)\n",
    "a=(model_RF_tf.score(X_test,y_test))\n",
    "accuracy['TF-IDF'].append(a)\n",
    "\n",
    "print(metrics.confusion_matrix(y_test, y_predict_RF_tf))\n",
    "print(metrics.classification_report(y_test, y_predict_RF_tf))\n",
    "print(metrics.accuracy_score(y_test, y_predict_RF_tf))"
   ]
  },
  {
   "cell_type": "markdown",
   "id": "6c2954b2",
   "metadata": {
    "papermill": {
     "duration": 0.022779,
     "end_time": "2023-07-07T08:24:02.996341",
     "exception": false,
     "start_time": "2023-07-07T08:24:02.973562",
     "status": "completed"
    },
    "tags": []
   },
   "source": [
    "### K Nearest Neighbours"
   ]
  },
  {
   "cell_type": "code",
   "execution_count": 26,
   "id": "60d72c88",
   "metadata": {
    "execution": {
     "iopub.execute_input": "2023-07-07T08:24:03.045034Z",
     "iopub.status.busy": "2023-07-07T08:24:03.044247Z",
     "iopub.status.idle": "2023-07-07T08:32:53.069851Z",
     "shell.execute_reply": "2023-07-07T08:32:53.068380Z"
    },
    "papermill": {
     "duration": 530.075524,
     "end_time": "2023-07-07T08:32:53.095221",
     "exception": false,
     "start_time": "2023-07-07T08:24:03.019697",
     "status": "completed"
    },
    "tags": []
   },
   "outputs": [
    {
     "name": "stdout",
     "output_type": "stream",
     "text": [
      "[[ 565 1983]\n",
      " [ 218 2234]]\n",
      "              precision    recall  f1-score   support\n",
      "\n",
      "           0       0.72      0.22      0.34      2548\n",
      "           1       0.53      0.91      0.67      2452\n",
      "\n",
      "    accuracy                           0.56      5000\n",
      "   macro avg       0.63      0.57      0.50      5000\n",
      "weighted avg       0.63      0.56      0.50      5000\n",
      "\n",
      "0.5598\n"
     ]
    }
   ],
   "source": [
    "#TF-IDF\n",
    "model_KN_tf = KNeighborsClassifier(metric= 'manhattan', n_neighbors= 5, weights= 'distance') \n",
    "model_KN_tf.fit(X_temp, y_temp)\n",
    "y_predict_KN_tf = model_KN_tf.predict(X_test)\n",
    "a=(model_KN_tf.score(X_test,y_test))\n",
    "accuracy['TF-IDF'].append(a)\n",
    "print(metrics.confusion_matrix(y_test, y_predict_KN_tf))\n",
    "print(metrics.classification_report(y_test, y_predict_KN_tf))\n",
    "print(metrics.accuracy_score(y_test, y_predict_KN_tf))"
   ]
  },
  {
   "cell_type": "markdown",
   "id": "74744bce",
   "metadata": {
    "papermill": {
     "duration": 0.022532,
     "end_time": "2023-07-07T08:32:53.140847",
     "exception": false,
     "start_time": "2023-07-07T08:32:53.118315",
     "status": "completed"
    },
    "tags": []
   },
   "source": [
    "## BoW"
   ]
  },
  {
   "cell_type": "code",
   "execution_count": 27,
   "id": "b06406c7",
   "metadata": {
    "execution": {
     "iopub.execute_input": "2023-07-07T08:32:53.188806Z",
     "iopub.status.busy": "2023-07-07T08:32:53.188322Z",
     "iopub.status.idle": "2023-07-07T08:32:53.852184Z",
     "shell.execute_reply": "2023-07-07T08:32:53.850987Z"
    },
    "papermill": {
     "duration": 0.691461,
     "end_time": "2023-07-07T08:32:53.855122",
     "exception": false,
     "start_time": "2023-07-07T08:32:53.163661",
     "status": "completed"
    },
    "tags": []
   },
   "outputs": [],
   "source": [
    "train = pd.read_csv('/kaggle/input/word2vec-nlp-tutorial/labeledTrainData.tsv.zip', sep = '\\t')"
   ]
  },
  {
   "cell_type": "code",
   "execution_count": 28,
   "id": "29784b65",
   "metadata": {
    "execution": {
     "iopub.execute_input": "2023-07-07T08:32:53.903840Z",
     "iopub.status.busy": "2023-07-07T08:32:53.903350Z",
     "iopub.status.idle": "2023-07-07T08:32:53.915348Z",
     "shell.execute_reply": "2023-07-07T08:32:53.914011Z"
    },
    "papermill": {
     "duration": 0.03954,
     "end_time": "2023-07-07T08:32:53.918250",
     "exception": false,
     "start_time": "2023-07-07T08:32:53.878710",
     "status": "completed"
    },
    "tags": []
   },
   "outputs": [
    {
     "data": {
      "text/html": [
       "<div>\n",
       "<style scoped>\n",
       "    .dataframe tbody tr th:only-of-type {\n",
       "        vertical-align: middle;\n",
       "    }\n",
       "\n",
       "    .dataframe tbody tr th {\n",
       "        vertical-align: top;\n",
       "    }\n",
       "\n",
       "    .dataframe thead th {\n",
       "        text-align: right;\n",
       "    }\n",
       "</style>\n",
       "<table border=\"1\" class=\"dataframe\">\n",
       "  <thead>\n",
       "    <tr style=\"text-align: right;\">\n",
       "      <th></th>\n",
       "      <th>id</th>\n",
       "      <th>sentiment</th>\n",
       "      <th>review</th>\n",
       "    </tr>\n",
       "  </thead>\n",
       "  <tbody>\n",
       "    <tr>\n",
       "      <th>0</th>\n",
       "      <td>5814_8</td>\n",
       "      <td>1</td>\n",
       "      <td>With all this stuff going down at the moment w...</td>\n",
       "    </tr>\n",
       "    <tr>\n",
       "      <th>1</th>\n",
       "      <td>2381_9</td>\n",
       "      <td>1</td>\n",
       "      <td>\\The Classic War of the Worlds\\\" by Timothy Hi...</td>\n",
       "    </tr>\n",
       "    <tr>\n",
       "      <th>2</th>\n",
       "      <td>7759_3</td>\n",
       "      <td>0</td>\n",
       "      <td>The film starts with a manager (Nicholas Bell)...</td>\n",
       "    </tr>\n",
       "    <tr>\n",
       "      <th>3</th>\n",
       "      <td>3630_4</td>\n",
       "      <td>0</td>\n",
       "      <td>It must be assumed that those who praised this...</td>\n",
       "    </tr>\n",
       "    <tr>\n",
       "      <th>4</th>\n",
       "      <td>9495_8</td>\n",
       "      <td>1</td>\n",
       "      <td>Superbly trashy and wondrously unpretentious 8...</td>\n",
       "    </tr>\n",
       "  </tbody>\n",
       "</table>\n",
       "</div>"
      ],
      "text/plain": [
       "       id  sentiment                                             review\n",
       "0  5814_8          1  With all this stuff going down at the moment w...\n",
       "1  2381_9          1  \\The Classic War of the Worlds\\\" by Timothy Hi...\n",
       "2  7759_3          0  The film starts with a manager (Nicholas Bell)...\n",
       "3  3630_4          0  It must be assumed that those who praised this...\n",
       "4  9495_8          1  Superbly trashy and wondrously unpretentious 8..."
      ]
     },
     "execution_count": 28,
     "metadata": {},
     "output_type": "execute_result"
    }
   ],
   "source": [
    "train.head()"
   ]
  },
  {
   "cell_type": "code",
   "execution_count": 29,
   "id": "87d6c7b6",
   "metadata": {
    "execution": {
     "iopub.execute_input": "2023-07-07T08:32:53.967248Z",
     "iopub.status.busy": "2023-07-07T08:32:53.966747Z",
     "iopub.status.idle": "2023-07-07T08:32:53.975486Z",
     "shell.execute_reply": "2023-07-07T08:32:53.974054Z"
    },
    "papermill": {
     "duration": 0.036862,
     "end_time": "2023-07-07T08:32:53.978402",
     "exception": false,
     "start_time": "2023-07-07T08:32:53.941540",
     "status": "completed"
    },
    "tags": []
   },
   "outputs": [],
   "source": [
    "train=train.drop(['id'], axis = 1)"
   ]
  },
  {
   "cell_type": "code",
   "execution_count": 30,
   "id": "1816cb38",
   "metadata": {
    "execution": {
     "iopub.execute_input": "2023-07-07T08:32:54.030802Z",
     "iopub.status.busy": "2023-07-07T08:32:54.029532Z",
     "iopub.status.idle": "2023-07-07T08:32:54.038062Z",
     "shell.execute_reply": "2023-07-07T08:32:54.036853Z"
    },
    "papermill": {
     "duration": 0.039092,
     "end_time": "2023-07-07T08:32:54.040894",
     "exception": false,
     "start_time": "2023-07-07T08:32:54.001802",
     "status": "completed"
    },
    "tags": []
   },
   "outputs": [],
   "source": [
    "dff = train.drop(['sentiment'], axis = 1)"
   ]
  },
  {
   "cell_type": "code",
   "execution_count": 31,
   "id": "71e74153",
   "metadata": {
    "execution": {
     "iopub.execute_input": "2023-07-07T08:32:54.090780Z",
     "iopub.status.busy": "2023-07-07T08:32:54.089744Z",
     "iopub.status.idle": "2023-07-07T08:32:54.112226Z",
     "shell.execute_reply": "2023-07-07T08:32:54.110888Z"
    },
    "papermill": {
     "duration": 0.05058,
     "end_time": "2023-07-07T08:32:54.115608",
     "exception": false,
     "start_time": "2023-07-07T08:32:54.065028",
     "status": "completed"
    },
    "tags": []
   },
   "outputs": [],
   "source": [
    "X_temp, X_test, y_temp, y_test = train_test_split(dff, list(train.sentiment), test_size=0.2)"
   ]
  },
  {
   "cell_type": "code",
   "execution_count": 32,
   "id": "b9f3c953",
   "metadata": {
    "execution": {
     "iopub.execute_input": "2023-07-07T08:32:54.164950Z",
     "iopub.status.busy": "2023-07-07T08:32:54.164345Z",
     "iopub.status.idle": "2023-07-07T08:32:54.173860Z",
     "shell.execute_reply": "2023-07-07T08:32:54.172506Z"
    },
    "papermill": {
     "duration": 0.037807,
     "end_time": "2023-07-07T08:32:54.176903",
     "exception": false,
     "start_time": "2023-07-07T08:32:54.139096",
     "status": "completed"
    },
    "tags": []
   },
   "outputs": [
    {
     "data": {
      "text/plain": [
       "((5000, 1), (20000, 1), 5000, 20000)"
      ]
     },
     "execution_count": 32,
     "metadata": {},
     "output_type": "execute_result"
    }
   ],
   "source": [
    "X_test.shape, X_temp.shape, len(y_test), len(y_temp)"
   ]
  },
  {
   "cell_type": "code",
   "execution_count": 33,
   "id": "aabf1410",
   "metadata": {
    "execution": {
     "iopub.execute_input": "2023-07-07T08:32:54.225715Z",
     "iopub.status.busy": "2023-07-07T08:32:54.225209Z",
     "iopub.status.idle": "2023-07-07T08:32:54.242025Z",
     "shell.execute_reply": "2023-07-07T08:32:54.240863Z"
    },
    "papermill": {
     "duration": 0.04443,
     "end_time": "2023-07-07T08:32:54.244799",
     "exception": false,
     "start_time": "2023-07-07T08:32:54.200369",
     "status": "completed"
    },
    "tags": []
   },
   "outputs": [],
   "source": [
    "X_temp['label'] = y_temp"
   ]
  },
  {
   "cell_type": "code",
   "execution_count": 34,
   "id": "2085aab6",
   "metadata": {
    "execution": {
     "iopub.execute_input": "2023-07-07T08:32:54.295741Z",
     "iopub.status.busy": "2023-07-07T08:32:54.295274Z",
     "iopub.status.idle": "2023-07-07T08:32:54.307464Z",
     "shell.execute_reply": "2023-07-07T08:32:54.306050Z"
    },
    "papermill": {
     "duration": 0.040774,
     "end_time": "2023-07-07T08:32:54.310040",
     "exception": false,
     "start_time": "2023-07-07T08:32:54.269266",
     "status": "completed"
    },
    "tags": []
   },
   "outputs": [
    {
     "data": {
      "text/html": [
       "<div>\n",
       "<style scoped>\n",
       "    .dataframe tbody tr th:only-of-type {\n",
       "        vertical-align: middle;\n",
       "    }\n",
       "\n",
       "    .dataframe tbody tr th {\n",
       "        vertical-align: top;\n",
       "    }\n",
       "\n",
       "    .dataframe thead th {\n",
       "        text-align: right;\n",
       "    }\n",
       "</style>\n",
       "<table border=\"1\" class=\"dataframe\">\n",
       "  <thead>\n",
       "    <tr style=\"text-align: right;\">\n",
       "      <th></th>\n",
       "      <th>review</th>\n",
       "      <th>label</th>\n",
       "    </tr>\n",
       "  </thead>\n",
       "  <tbody>\n",
       "    <tr>\n",
       "      <th>1184</th>\n",
       "      <td>Brilliant execution in displaying once and for...</td>\n",
       "      <td>1</td>\n",
       "    </tr>\n",
       "    <tr>\n",
       "      <th>18259</th>\n",
       "      <td>Its unfortunate that someone decided to spin o...</td>\n",
       "      <td>0</td>\n",
       "    </tr>\n",
       "    <tr>\n",
       "      <th>8407</th>\n",
       "      <td>OK, I would not normally watch a Farrelly brot...</td>\n",
       "      <td>1</td>\n",
       "    </tr>\n",
       "    <tr>\n",
       "      <th>8480</th>\n",
       "      <td>This is the kind of movie which shows the pauc...</td>\n",
       "      <td>0</td>\n",
       "    </tr>\n",
       "    <tr>\n",
       "      <th>1464</th>\n",
       "      <td>WOW! &lt;br /&gt;&lt;br /&gt;This film is the best living ...</td>\n",
       "      <td>1</td>\n",
       "    </tr>\n",
       "  </tbody>\n",
       "</table>\n",
       "</div>"
      ],
      "text/plain": [
       "                                                  review  label\n",
       "1184   Brilliant execution in displaying once and for...      1\n",
       "18259  Its unfortunate that someone decided to spin o...      0\n",
       "8407   OK, I would not normally watch a Farrelly brot...      1\n",
       "8480   This is the kind of movie which shows the pauc...      0\n",
       "1464   WOW! <br /><br />This film is the best living ...      1"
      ]
     },
     "execution_count": 34,
     "metadata": {},
     "output_type": "execute_result"
    }
   ],
   "source": [
    "X_temp.head()\n"
   ]
  },
  {
   "cell_type": "code",
   "execution_count": 35,
   "id": "b3f81b63",
   "metadata": {
    "execution": {
     "iopub.execute_input": "2023-07-07T08:32:54.359664Z",
     "iopub.status.busy": "2023-07-07T08:32:54.358837Z",
     "iopub.status.idle": "2023-07-07T08:32:54.370291Z",
     "shell.execute_reply": "2023-07-07T08:32:54.368669Z"
    },
    "papermill": {
     "duration": 0.039293,
     "end_time": "2023-07-07T08:32:54.373129",
     "exception": false,
     "start_time": "2023-07-07T08:32:54.333836",
     "status": "completed"
    },
    "tags": []
   },
   "outputs": [
    {
     "data": {
      "text/plain": [
       "9964"
      ]
     },
     "execution_count": 35,
     "metadata": {},
     "output_type": "execute_result"
    }
   ],
   "source": [
    "zero = X_temp[X_temp['label'] == 0]\n",
    "zero.shape[0]"
   ]
  },
  {
   "cell_type": "code",
   "execution_count": 36,
   "id": "65e5138f",
   "metadata": {
    "execution": {
     "iopub.execute_input": "2023-07-07T08:32:54.425233Z",
     "iopub.status.busy": "2023-07-07T08:32:54.424793Z",
     "iopub.status.idle": "2023-07-07T08:32:54.435682Z",
     "shell.execute_reply": "2023-07-07T08:32:54.434166Z"
    },
    "papermill": {
     "duration": 0.040835,
     "end_time": "2023-07-07T08:32:54.438822",
     "exception": false,
     "start_time": "2023-07-07T08:32:54.397987",
     "status": "completed"
    },
    "tags": []
   },
   "outputs": [
    {
     "data": {
      "text/plain": [
       "10036"
      ]
     },
     "execution_count": 36,
     "metadata": {},
     "output_type": "execute_result"
    }
   ],
   "source": [
    "one = X_temp[X_temp['label'] == 1]\n",
    "one.shape[0]"
   ]
  },
  {
   "cell_type": "code",
   "execution_count": 37,
   "id": "dd9c902f",
   "metadata": {
    "execution": {
     "iopub.execute_input": "2023-07-07T08:32:54.491121Z",
     "iopub.status.busy": "2023-07-07T08:32:54.490677Z",
     "iopub.status.idle": "2023-07-07T08:32:54.500507Z",
     "shell.execute_reply": "2023-07-07T08:32:54.498999Z"
    },
    "papermill": {
     "duration": 0.039373,
     "end_time": "2023-07-07T08:32:54.503314",
     "exception": false,
     "start_time": "2023-07-07T08:32:54.463941",
     "status": "completed"
    },
    "tags": []
   },
   "outputs": [],
   "source": [
    "ds = pd.concat([zero,one], axis = 0)"
   ]
  },
  {
   "cell_type": "code",
   "execution_count": 38,
   "id": "5e6396f8",
   "metadata": {
    "execution": {
     "iopub.execute_input": "2023-07-07T08:32:54.553461Z",
     "iopub.status.busy": "2023-07-07T08:32:54.552725Z",
     "iopub.status.idle": "2023-07-07T08:32:54.567936Z",
     "shell.execute_reply": "2023-07-07T08:32:54.566490Z"
    },
    "papermill": {
     "duration": 0.0439,
     "end_time": "2023-07-07T08:32:54.571125",
     "exception": false,
     "start_time": "2023-07-07T08:32:54.527225",
     "status": "completed"
    },
    "tags": []
   },
   "outputs": [
    {
     "data": {
      "text/html": [
       "<div>\n",
       "<style scoped>\n",
       "    .dataframe tbody tr th:only-of-type {\n",
       "        vertical-align: middle;\n",
       "    }\n",
       "\n",
       "    .dataframe tbody tr th {\n",
       "        vertical-align: top;\n",
       "    }\n",
       "\n",
       "    .dataframe thead th {\n",
       "        text-align: right;\n",
       "    }\n",
       "</style>\n",
       "<table border=\"1\" class=\"dataframe\">\n",
       "  <thead>\n",
       "    <tr style=\"text-align: right;\">\n",
       "      <th></th>\n",
       "      <th>review</th>\n",
       "      <th>label</th>\n",
       "    </tr>\n",
       "  </thead>\n",
       "  <tbody>\n",
       "    <tr>\n",
       "      <th>18259</th>\n",
       "      <td>Its unfortunate that someone decided to spin o...</td>\n",
       "      <td>0</td>\n",
       "    </tr>\n",
       "    <tr>\n",
       "      <th>8480</th>\n",
       "      <td>This is the kind of movie which shows the pauc...</td>\n",
       "      <td>0</td>\n",
       "    </tr>\n",
       "    <tr>\n",
       "      <th>6573</th>\n",
       "      <td>Once again the same familiar story about a man...</td>\n",
       "      <td>0</td>\n",
       "    </tr>\n",
       "    <tr>\n",
       "      <th>6075</th>\n",
       "      <td>Wonderful cast wasted on worthless script. Ten...</td>\n",
       "      <td>0</td>\n",
       "    </tr>\n",
       "    <tr>\n",
       "      <th>20284</th>\n",
       "      <td>Despite some moments in heavy rain, an encount...</td>\n",
       "      <td>0</td>\n",
       "    </tr>\n",
       "    <tr>\n",
       "      <th>...</th>\n",
       "      <td>...</td>\n",
       "      <td>...</td>\n",
       "    </tr>\n",
       "    <tr>\n",
       "      <th>9211</th>\n",
       "      <td>The first hour or so of the movie was mostly b...</td>\n",
       "      <td>1</td>\n",
       "    </tr>\n",
       "    <tr>\n",
       "      <th>15659</th>\n",
       "      <td>Spacecamp is a movie that I plan to show my Da...</td>\n",
       "      <td>1</td>\n",
       "    </tr>\n",
       "    <tr>\n",
       "      <th>23361</th>\n",
       "      <td>Now I had the pleasure of first viewing Contam...</td>\n",
       "      <td>1</td>\n",
       "    </tr>\n",
       "    <tr>\n",
       "      <th>3228</th>\n",
       "      <td>I'm a bit conflicted over this. The show is on...</td>\n",
       "      <td>1</td>\n",
       "    </tr>\n",
       "    <tr>\n",
       "      <th>16123</th>\n",
       "      <td>One of the great classic comedies. Not a slaps...</td>\n",
       "      <td>1</td>\n",
       "    </tr>\n",
       "  </tbody>\n",
       "</table>\n",
       "<p>20000 rows × 2 columns</p>\n",
       "</div>"
      ],
      "text/plain": [
       "                                                  review  label\n",
       "18259  Its unfortunate that someone decided to spin o...      0\n",
       "8480   This is the kind of movie which shows the pauc...      0\n",
       "6573   Once again the same familiar story about a man...      0\n",
       "6075   Wonderful cast wasted on worthless script. Ten...      0\n",
       "20284  Despite some moments in heavy rain, an encount...      0\n",
       "...                                                  ...    ...\n",
       "9211   The first hour or so of the movie was mostly b...      1\n",
       "15659  Spacecamp is a movie that I plan to show my Da...      1\n",
       "23361  Now I had the pleasure of first viewing Contam...      1\n",
       "3228   I'm a bit conflicted over this. The show is on...      1\n",
       "16123  One of the great classic comedies. Not a slaps...      1\n",
       "\n",
       "[20000 rows x 2 columns]"
      ]
     },
     "execution_count": 38,
     "metadata": {},
     "output_type": "execute_result"
    }
   ],
   "source": [
    "ds"
   ]
  },
  {
   "cell_type": "code",
   "execution_count": 39,
   "id": "7d1c3de2",
   "metadata": {
    "execution": {
     "iopub.execute_input": "2023-07-07T08:32:54.623959Z",
     "iopub.status.busy": "2023-07-07T08:32:54.623034Z",
     "iopub.status.idle": "2023-07-07T08:32:54.634554Z",
     "shell.execute_reply": "2023-07-07T08:32:54.633059Z"
    },
    "papermill": {
     "duration": 0.040871,
     "end_time": "2023-07-07T08:32:54.637591",
     "exception": false,
     "start_time": "2023-07-07T08:32:54.596720",
     "status": "completed"
    },
    "tags": []
   },
   "outputs": [
    {
     "data": {
      "text/plain": [
       "(5000, 2)"
      ]
     },
     "execution_count": 39,
     "metadata": {},
     "output_type": "execute_result"
    }
   ],
   "source": [
    "testdf = X_test\n",
    "testdf['label'] = y_test\n",
    "testdf.shape"
   ]
  },
  {
   "cell_type": "code",
   "execution_count": 40,
   "id": "4d514462",
   "metadata": {
    "execution": {
     "iopub.execute_input": "2023-07-07T08:32:54.688796Z",
     "iopub.status.busy": "2023-07-07T08:32:54.688269Z",
     "iopub.status.idle": "2023-07-07T08:32:54.700809Z",
     "shell.execute_reply": "2023-07-07T08:32:54.699317Z"
    },
    "papermill": {
     "duration": 0.041723,
     "end_time": "2023-07-07T08:32:54.703945",
     "exception": false,
     "start_time": "2023-07-07T08:32:54.662222",
     "status": "completed"
    },
    "tags": []
   },
   "outputs": [
    {
     "data": {
      "text/plain": [
       "(2536, 2464)"
      ]
     },
     "execution_count": 40,
     "metadata": {},
     "output_type": "execute_result"
    }
   ],
   "source": [
    "len(testdf[testdf['label']==0]),len(testdf[testdf['label']==1])"
   ]
  },
  {
   "cell_type": "code",
   "execution_count": 41,
   "id": "d47493a7",
   "metadata": {
    "execution": {
     "iopub.execute_input": "2023-07-07T08:32:54.755793Z",
     "iopub.status.busy": "2023-07-07T08:32:54.755299Z",
     "iopub.status.idle": "2023-07-07T08:32:54.764251Z",
     "shell.execute_reply": "2023-07-07T08:32:54.762901Z"
    },
    "papermill": {
     "duration": 0.03824,
     "end_time": "2023-07-07T08:32:54.766921",
     "exception": false,
     "start_time": "2023-07-07T08:32:54.728681",
     "status": "completed"
    },
    "tags": []
   },
   "outputs": [],
   "source": [
    "ds = pd.concat([ds, testdf], axis = 0)"
   ]
  },
  {
   "cell_type": "code",
   "execution_count": 42,
   "id": "0b5ec8da",
   "metadata": {
    "execution": {
     "iopub.execute_input": "2023-07-07T08:32:54.818951Z",
     "iopub.status.busy": "2023-07-07T08:32:54.817688Z",
     "iopub.status.idle": "2023-07-07T08:32:54.829837Z",
     "shell.execute_reply": "2023-07-07T08:32:54.828485Z"
    },
    "papermill": {
     "duration": 0.041116,
     "end_time": "2023-07-07T08:32:54.832646",
     "exception": false,
     "start_time": "2023-07-07T08:32:54.791530",
     "status": "completed"
    },
    "tags": []
   },
   "outputs": [
    {
     "data": {
      "text/plain": [
       "((12500, 2), (12500, 2))"
      ]
     },
     "execution_count": 42,
     "metadata": {},
     "output_type": "execute_result"
    }
   ],
   "source": [
    "ds[ds['label']==0].shape, ds[ds['label']==1].shape"
   ]
  },
  {
   "cell_type": "code",
   "execution_count": 43,
   "id": "0b447719",
   "metadata": {
    "execution": {
     "iopub.execute_input": "2023-07-07T08:32:54.884365Z",
     "iopub.status.busy": "2023-07-07T08:32:54.883861Z",
     "iopub.status.idle": "2023-07-07T08:32:58.409567Z",
     "shell.execute_reply": "2023-07-07T08:32:58.407943Z"
    },
    "papermill": {
     "duration": 3.554979,
     "end_time": "2023-07-07T08:32:58.412740",
     "exception": false,
     "start_time": "2023-07-07T08:32:54.857761",
     "status": "completed"
    },
    "tags": []
   },
   "outputs": [],
   "source": [
    "corpus = []\n",
    "for i in range(ds.shape[0]):\n",
    "    corpus.append(ds.iloc[i][0])"
   ]
  },
  {
   "cell_type": "code",
   "execution_count": 44,
   "id": "9456ce44",
   "metadata": {
    "execution": {
     "iopub.execute_input": "2023-07-07T08:32:58.468212Z",
     "iopub.status.busy": "2023-07-07T08:32:58.467778Z",
     "iopub.status.idle": "2023-07-07T08:33:06.136958Z",
     "shell.execute_reply": "2023-07-07T08:33:06.135560Z"
    },
    "papermill": {
     "duration": 7.700342,
     "end_time": "2023-07-07T08:33:06.140589",
     "exception": false,
     "start_time": "2023-07-07T08:32:58.440247",
     "status": "completed"
    },
    "tags": []
   },
   "outputs": [
    {
     "name": "stderr",
     "output_type": "stream",
     "text": [
      "/opt/conda/lib/python3.7/site-packages/sklearn/utils/deprecation.py:87: FutureWarning: Function get_feature_names is deprecated; get_feature_names is deprecated in 1.0 and will be removed in 1.2. Please use get_feature_names_out instead.\n",
      "  warnings.warn(msg, category=FutureWarning)\n"
     ]
    }
   ],
   "source": [
    "vectorizer_train = CountVectorizer(max_features=1000)\n",
    "vocabulary_train = vectorizer_train.fit_transform(corpus)\n",
    "bow = pd.DataFrame(vocabulary_train.toarray(), columns = vectorizer_train.get_feature_names())"
   ]
  },
  {
   "cell_type": "code",
   "execution_count": 45,
   "id": "c4851b0d",
   "metadata": {
    "execution": {
     "iopub.execute_input": "2023-07-07T08:33:06.195398Z",
     "iopub.status.busy": "2023-07-07T08:33:06.194629Z",
     "iopub.status.idle": "2023-07-07T08:33:06.217502Z",
     "shell.execute_reply": "2023-07-07T08:33:06.216124Z"
    },
    "papermill": {
     "duration": 0.053733,
     "end_time": "2023-07-07T08:33:06.220821",
     "exception": false,
     "start_time": "2023-07-07T08:33:06.167088",
     "status": "completed"
    },
    "tags": []
   },
   "outputs": [],
   "source": [
    "bow['labelxyz'] = list(ds.label)"
   ]
  },
  {
   "cell_type": "code",
   "execution_count": 46,
   "id": "ea51395a",
   "metadata": {
    "execution": {
     "iopub.execute_input": "2023-07-07T08:33:06.274295Z",
     "iopub.status.busy": "2023-07-07T08:33:06.273834Z",
     "iopub.status.idle": "2023-07-07T08:33:06.846912Z",
     "shell.execute_reply": "2023-07-07T08:33:06.845558Z"
    },
    "papermill": {
     "duration": 0.603145,
     "end_time": "2023-07-07T08:33:06.850119",
     "exception": false,
     "start_time": "2023-07-07T08:33:06.246974",
     "status": "completed"
    },
    "tags": []
   },
   "outputs": [],
   "source": [
    "bow_zero = bow[bow.labelxyz == 0]\n",
    "bow_one = bow[bow.labelxyz == 1]\n",
    "\n",
    "X_train_zero = bow_zero.sample(frac=0.8, random_state=0)\n",
    "X_test_zero = bow_zero.drop(X_train_zero.index)\n",
    "X_train_one = bow_one.sample(frac=0.8, random_state=0)\n",
    "X_test_one = bow_one.drop(X_train_one.index)\n",
    "\n",
    "X_train_df = pd.concat([X_train_zero, X_train_one], axis = 0)\n",
    "bow_train = X_train_df.drop(['labelxyz'], axis = 1)\n",
    "y_train = list(X_train_df.labelxyz)\n",
    "X_test_df = pd.concat([X_test_zero, X_test_one], axis = 0)\n",
    "bow_test = X_test_df.drop(['labelxyz'], axis = 1)\n",
    "y_test = list(X_test_df.labelxyz)"
   ]
  },
  {
   "cell_type": "markdown",
   "id": "ce80dfd3",
   "metadata": {
    "papermill": {
     "duration": 0.024396,
     "end_time": "2023-07-07T08:33:06.899500",
     "exception": false,
     "start_time": "2023-07-07T08:33:06.875104",
     "status": "completed"
    },
    "tags": []
   },
   "source": [
    "## Testing with Models"
   ]
  },
  {
   "cell_type": "code",
   "execution_count": 47,
   "id": "9da4532c",
   "metadata": {
    "execution": {
     "iopub.execute_input": "2023-07-07T08:33:06.956476Z",
     "iopub.status.busy": "2023-07-07T08:33:06.956047Z",
     "iopub.status.idle": "2023-07-07T08:33:06.967650Z",
     "shell.execute_reply": "2023-07-07T08:33:06.966206Z"
    },
    "papermill": {
     "duration": 0.045455,
     "end_time": "2023-07-07T08:33:06.970514",
     "exception": false,
     "start_time": "2023-07-07T08:33:06.925059",
     "status": "completed"
    },
    "tags": []
   },
   "outputs": [],
   "source": [
    "from sklearn.linear_model import LogisticRegression\n",
    "from sklearn.naive_bayes import GaussianNB\n",
    "from sklearn.ensemble import RandomForestClassifier\n",
    "from sklearn.tree import DecisionTreeClassifier\n",
    "from sklearn.neighbors import KNeighborsClassifier\n",
    "from sklearn.ensemble import GradientBoostingClassifier\n",
    "\n",
    "from sklearn import metrics\n",
    "import matplotlib.pyplot as plt\n",
    "%matplotlib inline\n",
    "from sklearn.metrics import plot_confusion_matrix\n",
    "from sklearn.metrics import precision_score, recall_score, f1_score\n",
    "import seaborn as sns"
   ]
  },
  {
   "cell_type": "markdown",
   "id": "218c1893",
   "metadata": {
    "papermill": {
     "duration": 0.024856,
     "end_time": "2023-07-07T08:33:07.028112",
     "exception": false,
     "start_time": "2023-07-07T08:33:07.003256",
     "status": "completed"
    },
    "tags": []
   },
   "source": [
    "### Logistic Regression"
   ]
  },
  {
   "cell_type": "code",
   "execution_count": 48,
   "id": "c58472b8",
   "metadata": {
    "execution": {
     "iopub.execute_input": "2023-07-07T08:33:07.083838Z",
     "iopub.status.busy": "2023-07-07T08:33:07.082875Z",
     "iopub.status.idle": "2023-07-07T08:33:10.514205Z",
     "shell.execute_reply": "2023-07-07T08:33:10.512300Z"
    },
    "papermill": {
     "duration": 3.465612,
     "end_time": "2023-07-07T08:33:10.519442",
     "exception": false,
     "start_time": "2023-07-07T08:33:07.053830",
     "status": "completed"
    },
    "tags": []
   },
   "outputs": [
    {
     "name": "stdout",
     "output_type": "stream",
     "text": [
      "[[2129  371]\n",
      " [ 346 2154]]\n",
      "              precision    recall  f1-score   support\n",
      "\n",
      "           0       0.86      0.85      0.86      2500\n",
      "           1       0.85      0.86      0.86      2500\n",
      "\n",
      "    accuracy                           0.86      5000\n",
      "   macro avg       0.86      0.86      0.86      5000\n",
      "weighted avg       0.86      0.86      0.86      5000\n",
      "\n",
      "0.8566\n"
     ]
    }
   ],
   "source": [
    "#BOW\n",
    "regressor_LR_bow = LogisticRegression(C= 1.0, penalty='l2', solver= 'liblinear')\n",
    "regressor_LR_bow.fit(bow_train,y_train)\n",
    "y_predict_LR_bow = regressor_LR_bow.predict(bow_test)\n",
    "a=(regressor_LR_bow.score(bow_test,y_test))\n",
    "accuracy['BoW'].append(a)\n",
    "print(metrics.confusion_matrix(y_test, y_predict_LR_bow))\n",
    "print(metrics.classification_report(y_test, y_predict_LR_bow))\n",
    "print(metrics.accuracy_score(y_test, y_predict_LR_bow))"
   ]
  },
  {
   "cell_type": "markdown",
   "id": "9a10cb2e",
   "metadata": {
    "papermill": {
     "duration": 0.028739,
     "end_time": "2023-07-07T08:33:10.601254",
     "exception": false,
     "start_time": "2023-07-07T08:33:10.572515",
     "status": "completed"
    },
    "tags": []
   },
   "source": [
    "### Decision Tree"
   ]
  },
  {
   "cell_type": "code",
   "execution_count": 49,
   "id": "889af7f7",
   "metadata": {
    "execution": {
     "iopub.execute_input": "2023-07-07T08:33:10.654391Z",
     "iopub.status.busy": "2023-07-07T08:33:10.653876Z",
     "iopub.status.idle": "2023-07-07T08:33:11.084786Z",
     "shell.execute_reply": "2023-07-07T08:33:11.083631Z"
    },
    "papermill": {
     "duration": 0.460746,
     "end_time": "2023-07-07T08:33:11.087759",
     "exception": false,
     "start_time": "2023-07-07T08:33:10.627013",
     "status": "completed"
    },
    "tags": []
   },
   "outputs": [
    {
     "name": "stdout",
     "output_type": "stream",
     "text": [
      "[[1100 1400]\n",
      " [ 348 2152]]\n",
      "              precision    recall  f1-score   support\n",
      "\n",
      "           0       0.76      0.44      0.56      2500\n",
      "           1       0.61      0.86      0.71      2500\n",
      "\n",
      "    accuracy                           0.65      5000\n",
      "   macro avg       0.68      0.65      0.63      5000\n",
      "weighted avg       0.68      0.65      0.63      5000\n",
      "\n",
      "0.6504\n"
     ]
    }
   ],
   "source": [
    "model_DT_bow = DecisionTreeClassifier(criterion= 'gini', max_depth= 2) \n",
    "model_DT_bow.fit(bow_train,y_train)\n",
    "y_predict_DT_bow = model_DT_bow.predict(bow_test)\n",
    "a=(model_DT_bow.score(bow_test,y_test))\n",
    "accuracy['BoW'].append(a)\n",
    "print(metrics.confusion_matrix(y_test, y_predict_DT_bow))\n",
    "print(metrics.classification_report(y_test, y_predict_DT_bow))\n",
    "print(metrics.accuracy_score(y_test, y_predict_DT_bow))"
   ]
  },
  {
   "cell_type": "markdown",
   "id": "7d6ec17e",
   "metadata": {
    "papermill": {
     "duration": 0.024797,
     "end_time": "2023-07-07T08:33:11.140215",
     "exception": false,
     "start_time": "2023-07-07T08:33:11.115418",
     "status": "completed"
    },
    "tags": []
   },
   "source": [
    "### Gradient Boosting"
   ]
  },
  {
   "cell_type": "code",
   "execution_count": 50,
   "id": "fad792dd",
   "metadata": {
    "execution": {
     "iopub.execute_input": "2023-07-07T08:33:11.194371Z",
     "iopub.status.busy": "2023-07-07T08:33:11.193642Z",
     "iopub.status.idle": "2023-07-07T08:33:47.478765Z",
     "shell.execute_reply": "2023-07-07T08:33:47.477296Z"
    },
    "papermill": {
     "duration": 36.340257,
     "end_time": "2023-07-07T08:33:47.505964",
     "exception": false,
     "start_time": "2023-07-07T08:33:11.165707",
     "status": "completed"
    },
    "tags": []
   },
   "outputs": [
    {
     "name": "stdout",
     "output_type": "stream",
     "text": [
      "[[1902  598]\n",
      " [ 374 2126]]\n",
      "              precision    recall  f1-score   support\n",
      "\n",
      "           0       0.84      0.76      0.80      2500\n",
      "           1       0.78      0.85      0.81      2500\n",
      "\n",
      "    accuracy                           0.81      5000\n",
      "   macro avg       0.81      0.81      0.81      5000\n",
      "weighted avg       0.81      0.81      0.81      5000\n",
      "\n",
      "0.8056\n"
     ]
    }
   ],
   "source": [
    "#BOW\n",
    "model_GB_bow = GradientBoostingClassifier(learning_rate= 0.1, max_depth= 3, n_estimators= 100, subsample= 1.0)\n",
    "model_GB_bow.fit(bow_train,y_train)\n",
    "y_predict_GB_bow = model_GB_bow.predict(bow_test)\n",
    "a=(model_GB_bow.score(bow_test,y_test))\n",
    "accuracy['BoW'].append(a)\n",
    "print(metrics.confusion_matrix(y_test, y_predict_GB_bow))\n",
    "print(metrics.classification_report(y_test, y_predict_GB_bow))\n",
    "print(metrics.accuracy_score(y_test, y_predict_GB_bow))"
   ]
  },
  {
   "cell_type": "markdown",
   "id": "ffc9ee54",
   "metadata": {
    "papermill": {
     "duration": 0.025015,
     "end_time": "2023-07-07T08:33:47.556162",
     "exception": false,
     "start_time": "2023-07-07T08:33:47.531147",
     "status": "completed"
    },
    "tags": []
   },
   "source": [
    "### Random Forest"
   ]
  },
  {
   "cell_type": "code",
   "execution_count": 51,
   "id": "48523c2b",
   "metadata": {
    "execution": {
     "iopub.execute_input": "2023-07-07T08:33:47.608397Z",
     "iopub.status.busy": "2023-07-07T08:33:47.607918Z",
     "iopub.status.idle": "2023-07-07T08:36:26.433273Z",
     "shell.execute_reply": "2023-07-07T08:36:26.431906Z"
    },
    "papermill": {
     "duration": 158.879821,
     "end_time": "2023-07-07T08:36:26.461053",
     "exception": false,
     "start_time": "2023-07-07T08:33:47.581232",
     "status": "completed"
    },
    "tags": []
   },
   "outputs": [
    {
     "name": "stdout",
     "output_type": "stream",
     "text": [
      "[[2068  432]\n",
      " [ 411 2089]]\n",
      "              precision    recall  f1-score   support\n",
      "\n",
      "           0       0.83      0.83      0.83      2500\n",
      "           1       0.83      0.84      0.83      2500\n",
      "\n",
      "    accuracy                           0.83      5000\n",
      "   macro avg       0.83      0.83      0.83      5000\n",
      "weighted avg       0.83      0.83      0.83      5000\n",
      "\n",
      "0.8314\n"
     ]
    }
   ],
   "source": [
    "#BOW\n",
    "model_RF_bow = RandomForestClassifier(max_features='sqrt', n_estimators= 1000)\n",
    "model_RF_bow.fit(bow_train,y_train)\n",
    "y_predict_RF_bow = model_RF_bow.predict(bow_test)\n",
    "a=(model_RF_bow.score(bow_test,y_test))\n",
    "accuracy['BoW'].append(a)\n",
    "print(metrics.confusion_matrix(y_test, y_predict_RF_bow))\n",
    "print(metrics.classification_report(y_test, y_predict_RF_bow))\n",
    "print(metrics.accuracy_score(y_test, y_predict_RF_bow))"
   ]
  },
  {
   "cell_type": "markdown",
   "id": "15cfe813",
   "metadata": {
    "papermill": {
     "duration": 0.024903,
     "end_time": "2023-07-07T08:36:26.511151",
     "exception": false,
     "start_time": "2023-07-07T08:36:26.486248",
     "status": "completed"
    },
    "tags": []
   },
   "source": [
    "### K neighbors"
   ]
  },
  {
   "cell_type": "code",
   "execution_count": 52,
   "id": "54b9b874",
   "metadata": {
    "execution": {
     "iopub.execute_input": "2023-07-07T08:36:26.563927Z",
     "iopub.status.busy": "2023-07-07T08:36:26.562915Z",
     "iopub.status.idle": "2023-07-07T08:36:36.840240Z",
     "shell.execute_reply": "2023-07-07T08:36:36.838476Z"
    },
    "papermill": {
     "duration": 10.306969,
     "end_time": "2023-07-07T08:36:36.843217",
     "exception": false,
     "start_time": "2023-07-07T08:36:26.536248",
     "status": "completed"
    },
    "tags": []
   },
   "outputs": [
    {
     "name": "stdout",
     "output_type": "stream",
     "text": [
      "[[1265 1235]\n",
      " [ 506 1994]]\n",
      "              precision    recall  f1-score   support\n",
      "\n",
      "           0       0.71      0.51      0.59      2500\n",
      "           1       0.62      0.80      0.70      2500\n",
      "\n",
      "    accuracy                           0.65      5000\n",
      "   macro avg       0.67      0.65      0.64      5000\n",
      "weighted avg       0.67      0.65      0.64      5000\n",
      "\n",
      "0.6518\n"
     ]
    }
   ],
   "source": [
    "#BOW\n",
    "model_KN_bow = KNeighborsClassifier(metric= 'euclidean', n_neighbors= 19, weights= 'distance') \n",
    "model_KN_bow.fit(bow_train,y_train)\n",
    "y_predict_KN_bow = model_KN_bow.predict(bow_test)\n",
    "a=(model_KN_bow.score(bow_test,y_test))\n",
    "accuracy['BoW'].append(a)\n",
    "print(metrics.confusion_matrix(y_test, y_predict_KN_bow))\n",
    "print(metrics.classification_report(y_test, y_predict_KN_bow))\n",
    "print(metrics.accuracy_score(y_test, y_predict_KN_bow))"
   ]
  },
  {
   "cell_type": "markdown",
   "id": "d85a507b",
   "metadata": {
    "papermill": {
     "duration": 0.026125,
     "end_time": "2023-07-07T08:36:36.895207",
     "exception": false,
     "start_time": "2023-07-07T08:36:36.869082",
     "status": "completed"
    },
    "tags": []
   },
   "source": [
    "## Basic Models Evaluation"
   ]
  },
  {
   "cell_type": "code",
   "execution_count": 53,
   "id": "b6dc9484",
   "metadata": {
    "execution": {
     "iopub.execute_input": "2023-07-07T08:36:36.964249Z",
     "iopub.status.busy": "2023-07-07T08:36:36.963025Z",
     "iopub.status.idle": "2023-07-07T08:36:36.981903Z",
     "shell.execute_reply": "2023-07-07T08:36:36.980316Z"
    },
    "papermill": {
     "duration": 0.060923,
     "end_time": "2023-07-07T08:36:36.985074",
     "exception": false,
     "start_time": "2023-07-07T08:36:36.924151",
     "status": "completed"
    },
    "tags": []
   },
   "outputs": [
    {
     "data": {
      "text/html": [
       "<div>\n",
       "<style scoped>\n",
       "    .dataframe tbody tr th:only-of-type {\n",
       "        vertical-align: middle;\n",
       "    }\n",
       "\n",
       "    .dataframe tbody tr th {\n",
       "        vertical-align: top;\n",
       "    }\n",
       "\n",
       "    .dataframe thead th {\n",
       "        text-align: right;\n",
       "    }\n",
       "</style>\n",
       "<table border=\"1\" class=\"dataframe\">\n",
       "  <thead>\n",
       "    <tr style=\"text-align: right;\">\n",
       "      <th></th>\n",
       "      <th>model</th>\n",
       "      <th>TF-IDF accuracy</th>\n",
       "      <th>BoW accuracy</th>\n",
       "    </tr>\n",
       "  </thead>\n",
       "  <tbody>\n",
       "    <tr>\n",
       "      <th>0</th>\n",
       "      <td>LR</td>\n",
       "      <td>0.8612</td>\n",
       "      <td>0.8566</td>\n",
       "    </tr>\n",
       "    <tr>\n",
       "      <th>1</th>\n",
       "      <td>DT</td>\n",
       "      <td>0.6538</td>\n",
       "      <td>0.6504</td>\n",
       "    </tr>\n",
       "    <tr>\n",
       "      <th>2</th>\n",
       "      <td>GB</td>\n",
       "      <td>0.8100</td>\n",
       "      <td>0.8056</td>\n",
       "    </tr>\n",
       "    <tr>\n",
       "      <th>3</th>\n",
       "      <td>RF</td>\n",
       "      <td>0.8456</td>\n",
       "      <td>0.8314</td>\n",
       "    </tr>\n",
       "    <tr>\n",
       "      <th>4</th>\n",
       "      <td>KN</td>\n",
       "      <td>0.5598</td>\n",
       "      <td>0.6518</td>\n",
       "    </tr>\n",
       "  </tbody>\n",
       "</table>\n",
       "</div>"
      ],
      "text/plain": [
       "  model  TF-IDF accuracy  BoW accuracy\n",
       "0    LR           0.8612        0.8566\n",
       "1    DT           0.6538        0.6504\n",
       "2    GB           0.8100        0.8056\n",
       "3    RF           0.8456        0.8314\n",
       "4    KN           0.5598        0.6518"
      ]
     },
     "execution_count": 53,
     "metadata": {},
     "output_type": "execute_result"
    }
   ],
   "source": [
    "model = ['LR','DT','GB','RF','KN']\n",
    "data = {'model':model,'TF-IDF accuracy':accuracy['TF-IDF'], 'BoW accuracy':accuracy['BoW']}\n",
    "compare_models = pd.DataFrame(data)\n",
    "compare_models"
   ]
  },
  {
   "cell_type": "code",
   "execution_count": 54,
   "id": "aacf0293",
   "metadata": {
    "execution": {
     "iopub.execute_input": "2023-07-07T08:36:37.045864Z",
     "iopub.status.busy": "2023-07-07T08:36:37.044675Z",
     "iopub.status.idle": "2023-07-07T08:36:37.889463Z",
     "shell.execute_reply": "2023-07-07T08:36:37.888022Z"
    },
    "papermill": {
     "duration": 0.874974,
     "end_time": "2023-07-07T08:36:37.892292",
     "exception": false,
     "start_time": "2023-07-07T08:36:37.017318",
     "status": "completed"
    },
    "tags": []
   },
   "outputs": [
    {
     "data": {
      "image/png": "[encoded data removed]",
      "text/plain": [
       "<Figure size 640x480 with 1 Axes>"
      ]
     },
     "metadata": {},
     "output_type": "display_data"
    }
   ],
   "source": [
    "X_axis = np.arange(len(compare_models['model']))\n",
    "  \n",
    "plt.bar(X_axis - 0.2, compare_models['TF-IDF accuracy'], 0.4, label = 'TF-IDF')\n",
    "plt.bar(X_axis + 0.2, compare_models['BoW accuracy'], 0.4, label = 'BoW')\n",
    "  \n",
    "plt.xticks(X_axis, compare_models['model'])\n",
    "plt.xlabel(\"Groups\")\n",
    "plt.ylabel(\"Number of Students\")\n",
    "plt.title(\"Comparitive Accuracy for Two Vectorization Technique \")\n",
    "plt.legend()\n",
    "plt.savefig('Comparitive Accuracy for Two Vectorization Technique.pdf', bbox_inches='tight')\n",
    "plt.show()"
   ]
  }
 ],
 "metadata": {
  "kernelspec": {
   "display_name": "Python 3",
   "language": "python",
   "name": "python3"
  },
  "language_info": {
   "codemirror_mode": {
    "name": "ipython",
    "version": 3
   },
   "file_extension": ".py",
   "mimetype": "text/x-python",
   "name": "python",
   "nbconvert_exporter": "python",
   "pygments_lexer": "ipython3",
   "version": "3.7.12"
  },
  "papermill": {
   "default_parameters": {},
   "duration": 919.049709,
   "end_time": "2023-07-07T08:36:40.644049",
   "environment_variables": {},
   "exception": null,
   "input_path": "__notebook__.ipynb",
   "output_path": "__notebook__.ipynb",
   "parameters": {},
   "start_time": "2023-07-07T08:21:21.594340",
   "version": "2.4.0"
  }
 },
 "nbformat": 4,
 "nbformat_minor": 5
}
